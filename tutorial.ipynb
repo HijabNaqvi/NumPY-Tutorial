{
 "cells": [
  {
   "cell_type": "markdown",
   "metadata": {},
   "source": [
    "# NumPy Tutorial"
   ]
  },
  {
   "cell_type": "markdown",
   "metadata": {},
   "source": [
    "## Introduction to NumPy\n",
    "### What is NumPy\n",
    "NumPy (Numerical Python) is a Python library used for working with arrays. It was created in 2005 by Travis Oliphant.\n",
    "NumPy is used in almost every field of science and engineering and is the universal standard for working with numerical data in Python.\n",
    "### Why use NumPy\n",
    "* NumPy arrays are faster and more compact than Python lists. \n",
    "* NumPy uses much less memory to store data and it provides a mechanism of specifying the data types. This allows the code to be optimized even further.\n",
    "* NumPy leverages vectorized operations, which means operations are applied on whole arrays at once rather than element-by-element, resulting in faster execution.\n",
    "### Why is NumPy Fast?\n",
    "NumPy is fast because of vectorization and broadcasting.\n",
    "\n",
    "**Vectorization**: The process of performing operations on entire array rather than individual elements.\n",
    "\n",
    "**Broadcasting**: allows NumPy to perform operations on arrays of different shapes by automatically expanding their dimensions to match each other."
   ]
  },
  {
   "cell_type": "markdown",
   "metadata": {},
   "source": [
    "## Setting Up\n",
    "### Installation\n",
    "You can install NumPy with:\n",
    "```pip install numpy```\n",
    "Or\n",
    "```conda install numpy```\n",
    "### Importing \n",
    "To access NumPy and its functions, import it like this:\n",
    "```import numpy as np```\n",
    "\n",
    "We shorten the imported name to np for better readability of code using NumPy. This is a widely adopted convention that makes your code more readable for everyone working on it. "
   ]
  },
  {
   "cell_type": "markdown",
   "metadata": {},
   "source": [
    "## Basics of NumPy Arrays\n",
    "NumPy is used to work with arrays. The array object in NumPy is called ```ndarray```.\n",
    "\n",
    "We can create a NumPy ```ndarray``` object by using the ```array()``` function.\n",
    "\n",
    "0-D array: Scalar\n",
    "\n",
    "1-D array: Vector\n",
    "\n",
    "2-D array: Matrix\n",
    "\n",
    "3-D or higher rank array: Tensor"
   ]
  },
  {
   "attachments": {
    "image.png": {
     "image/png": "[encoded data removed]"
    }
   },
   "cell_type": "markdown",
   "metadata": {},
   "source": [
    "![image.png](attachment:image.png)"
   ]
  },
  {
   "cell_type": "markdown",
   "metadata": {},
   "source": [
    "### Array Creation"
   ]
  },
  {
   "cell_type": "code",
   "execution_count": 1,
   "metadata": {},
   "outputs": [
    {
     "name": "stdout",
     "output_type": "stream",
     "text": [
      "[1 2 3 4 5]\n",
      "<class 'numpy.ndarray'>\n"
     ]
    }
   ],
   "source": [
    "# Creating Arrays\n",
    "import numpy as np\n",
    "array1 = np.array([1, 2, 3, 4, 5])\n",
    "print(array1)\n",
    "print(type(array1))"
   ]
  },
  {
   "cell_type": "code",
   "execution_count": 2,
   "metadata": {},
   "outputs": [
    {
     "name": "stdout",
     "output_type": "stream",
     "text": [
      "[ 4 65 34]\n",
      "<class 'numpy.ndarray'>\n"
     ]
    }
   ],
   "source": [
    "narray = np.array([4, 65, 34])\n",
    "print(narray)\n",
    "print(type(narray))"
   ]
  },
  {
   "cell_type": "code",
   "execution_count": 3,
   "metadata": {},
   "outputs": [
    {
     "name": "stdout",
     "output_type": "stream",
     "text": [
      "42\n",
      "<class 'numpy.ndarray'>\n"
     ]
    }
   ],
   "source": [
    "# creating 0-d array\n",
    "\n",
    "arr0 = np.array(42)\n",
    "print(arr0)\n",
    "print(type(arr0))"
   ]
  },
  {
   "cell_type": "code",
   "execution_count": 4,
   "metadata": {},
   "outputs": [
    {
     "name": "stdout",
     "output_type": "stream",
     "text": [
      "[1 2 3]\n"
     ]
    }
   ],
   "source": [
    "# creating 1-d array\n",
    "\n",
    "arr1 = np.array([1, 2, 3])\n",
    "print(arr1)"
   ]
  },
  {
   "cell_type": "code",
   "execution_count": 5,
   "metadata": {},
   "outputs": [
    {
     "name": "stdout",
     "output_type": "stream",
     "text": [
      "[[1 2]\n",
      " [3 4]]\n"
     ]
    }
   ],
   "source": [
    "# creating 2-d array\n",
    "\n",
    "arr2 = np.array([[1, 2], [3, 4]])\n",
    "print(arr2)"
   ]
  },
  {
   "cell_type": "code",
   "execution_count": 6,
   "metadata": {},
   "outputs": [
    {
     "name": "stdout",
     "output_type": "stream",
     "text": [
      "[[[1 2]\n",
      "  [3 4]]\n",
      "\n",
      " [[5 6]\n",
      "  [7 8]]]\n"
     ]
    }
   ],
   "source": [
    "# creating 3-d array\n",
    "\n",
    "arr3 = np.array([[[1,2], [3,4]], [[5,6],[7,8]]])\n",
    "print(arr3)"
   ]
  },
  {
   "cell_type": "code",
   "execution_count": 7,
   "metadata": {},
   "outputs": [
    {
     "name": "stdout",
     "output_type": "stream",
     "text": [
      "0\n",
      "3\n"
     ]
    }
   ],
   "source": [
    "# check number of dimensions\n",
    "print(arr0.ndim)\n",
    "print(arr3.ndim)"
   ]
  },
  {
   "cell_type": "code",
   "execution_count": 8,
   "metadata": {},
   "outputs": [
    {
     "name": "stdout",
     "output_type": "stream",
     "text": [
      "[[[[[1 2 3]]]]]\n",
      "5\n"
     ]
    }
   ],
   "source": [
    "# create higher dimensional arrays\n",
    "\n",
    "arrH = np.array([1, 2, 3], ndmin = 5)\n",
    "print(arrH)\n",
    "print(arrH.ndim)"
   ]
  },
  {
   "cell_type": "markdown",
   "metadata": {},
   "source": [
    "#### NumPy functions for creation of arrays of specified values or ranges"
   ]
  },
  {
   "cell_type": "code",
   "execution_count": 9,
   "metadata": {},
   "outputs": [
    {
     "name": "stdout",
     "output_type": "stream",
     "text": [
      "[[0. 0. 0. 0.]\n",
      " [0. 0. 0. 0.]\n",
      " [0. 0. 0. 0.]]\n",
      "2\n"
     ]
    }
   ],
   "source": [
    "arrZ = np.zeros((3, 4))     # creates a 3x4 array filled with zeros.\n",
    "print(arrZ)\n",
    "\n",
    "print(arrZ.ndim)"
   ]
  },
  {
   "cell_type": "code",
   "execution_count": 10,
   "metadata": {},
   "outputs": [
    {
     "name": "stdout",
     "output_type": "stream",
     "text": [
      "[[1. 1. 1.]\n",
      " [1. 1. 1.]]\n"
     ]
    }
   ],
   "source": [
    "arrO = np.ones((2, 3))      # creates a 2x3 array filled with ones.\n",
    "print(arrO)"
   ]
  },
  {
   "cell_type": "code",
   "execution_count": 11,
   "metadata": {},
   "outputs": [
    {
     "name": "stdout",
     "output_type": "stream",
     "text": [
      "[0 2 4 6 8]\n"
     ]
    }
   ],
   "source": [
    "# np.arange(start, stop, step): Creates an array with evenly spaced values within a given range.\n",
    "arrA = np.arange(0, 10, 2)      # generates an array from 0 to 10 (exclusive) with a step of 2.\n",
    "print(arrA)\n"
   ]
  },
  {
   "cell_type": "code",
   "execution_count": 14,
   "metadata": {},
   "outputs": [
    {
     "name": "stdout",
     "output_type": "stream",
     "text": [
      "[0.   0.25 0.5  0.75 1.  ]\n"
     ]
    }
   ],
   "source": [
    "# np.linspace(start, stop, num): Creates an array with evenly spaced values over a specified interval.\n",
    "\n",
    "arrL = np.linspace(0, 1, 5)     # generates an array with 5 equally spaced values from 0 to 1.\n",
    "print(arrL)"
   ]
  },
  {
   "cell_type": "markdown",
   "metadata": {},
   "source": [
    "### Array Attributes\n",
    "NumPy arrays come with several attributes that provide useful information about the array's structure and data type. Three key attributes are:\n",
    "* Shape\n",
    "* Size\n",
    "* Dtype"
   ]
  },
  {
   "cell_type": "code",
   "execution_count": 15,
   "metadata": {},
   "outputs": [
    {
     "name": "stdout",
     "output_type": "stream",
     "text": [
      "[[ 1  2  3  4  5]\n",
      " [ 6  7  8  9 10]]\n",
      "Its shape is:  (2, 5)\n",
      "Size:  10\n",
      "dtype:  int32\n"
     ]
    }
   ],
   "source": [
    "array2 = np.array([[1, 2, 3, 4, 5], [6, 7, 8, 9, 10]])\n",
    "print(array2)\n",
    "print(\"Its shape is: \", array2.shape)\n",
    "print(\"Size: \", array2.size)\n",
    "print(\"dtype: \", array2.dtype)"
   ]
  },
  {
   "cell_type": "code",
   "execution_count": 16,
   "metadata": {},
   "outputs": [
    {
     "name": "stdout",
     "output_type": "stream",
     "text": [
      "['1' '2' 'h']\n",
      "<U11\n"
     ]
    }
   ],
   "source": [
    "exp = np.array([1, 2, \"h\"])\n",
    "print(exp)\n",
    "print(exp.dtype)"
   ]
  },
  {
   "cell_type": "markdown",
   "metadata": {},
   "source": [
    "### Basic Operations\n",
    "NumPy supports a wide range of basic operations on arrays, making it easy to perform mathematical computations efficiently.\n",
    "\n",
    "Following are two basic operations NumPy can perform:\n",
    "* Arithmetic Operations\n",
    "* Broadcasting"
   ]
  },
  {
   "cell_type": "markdown",
   "metadata": {},
   "source": [
    "#### Arithmetic Operations\n",
    "We can perform addition, subtraction, multliplication, and division on numpy arrays.\n"
   ]
  },
  {
   "cell_type": "code",
   "execution_count": 17,
   "metadata": {},
   "outputs": [
    {
     "name": "stdout",
     "output_type": "stream",
     "text": [
      "[5 7 9]\n",
      "[-3 -3 -3]\n",
      "[ 4 10 18]\n",
      "[0.25 0.4  0.5 ]\n"
     ]
    }
   ],
   "source": [
    "operand1 = np.array([1,2,3,])\n",
    "operand2 = np.array([4, 5, 6])\n",
    "print(operand1 + operand2)\n",
    "print(operand1 - operand2)\n",
    "print(operand1 * operand2)\n",
    "print(operand1 / operand2)"
   ]
  },
  {
   "cell_type": "code",
   "execution_count": 18,
   "metadata": {},
   "outputs": [
    {
     "name": "stdout",
     "output_type": "stream",
     "text": [
      "15\n"
     ]
    }
   ],
   "source": [
    "# To find sum of elements in an array, use sum() method\n",
    "print(operand2.sum())"
   ]
  },
  {
   "cell_type": "markdown",
   "metadata": {},
   "source": [
    "#### Broadcasting\n",
    "It's a mechanism that allows NumPy to perform operations on arrays of different types, and operation between vector (array) and a scalar."
   ]
  },
  {
   "cell_type": "code",
   "execution_count": 19,
   "metadata": {},
   "outputs": [
    {
     "name": "stdout",
     "output_type": "stream",
     "text": [
      "[2 4 6]\n"
     ]
    }
   ],
   "source": [
    "scalar = 2\n",
    "print(operand1 * scalar)        # [1, 2, 3]"
   ]
  },
  {
   "cell_type": "code",
   "execution_count": 20,
   "metadata": {},
   "outputs": [
    {
     "name": "stdout",
     "output_type": "stream",
     "text": [
      "[[2 4 6]\n",
      " [5 7 9]]\n"
     ]
    }
   ],
   "source": [
    "operand3 = np.array([[1, 2, 3], [4, 5, 6]])\n",
    "print(operand1 + operand3)"
   ]
  },
  {
   "cell_type": "code",
   "execution_count": 21,
   "metadata": {},
   "outputs": [
    {
     "name": "stdout",
     "output_type": "stream",
     "text": [
      "[[ 2  6 12]\n",
      " [ 8 15 24]]\n"
     ]
    }
   ],
   "source": [
    "br1 = np.array([[1, 2, 3],\n",
    "              [4, 5, 6]])\n",
    "\n",
    "br2 = np.array([2, 3, 4])\n",
    "\n",
    "result = br1 * br2\n",
    "\n",
    "print(result)\n"
   ]
  },
  {
   "cell_type": "markdown",
   "metadata": {},
   "source": [
    "## Array Indexing\n",
    "Array indexing is the same as accessing an array element.\n",
    "\n",
    "You can access an array element by referring to its index number.\n",
    "\n",
    "The indexes in NumPy arrays start with 0,"
   ]
  },
  {
   "cell_type": "code",
   "execution_count": 22,
   "metadata": {},
   "outputs": [
    {
     "name": "stdout",
     "output_type": "stream",
     "text": [
      "[4 5 6]\n",
      "6\n"
     ]
    }
   ],
   "source": [
    "print(operand2)\n",
    "print(operand2[2])"
   ]
  },
  {
   "cell_type": "code",
   "execution_count": 23,
   "metadata": {},
   "outputs": [
    {
     "name": "stdout",
     "output_type": "stream",
     "text": [
      "[[1 2 3]\n",
      " [4 5 6]]\n",
      "5\n"
     ]
    }
   ],
   "source": [
    "print(operand3)\n",
    "print(operand3[-1][-2])"
   ]
  },
  {
   "cell_type": "markdown",
   "metadata": {},
   "source": [
    "## Array Slicing\n",
    "Slicing in python means taking elements from one given index to another given index.\n",
    "\n",
    "We pass slice instead of index like this: [start:end].\n",
    "\n",
    "We can also define the step, like this: [start:end:step]."
   ]
  },
  {
   "cell_type": "code",
   "execution_count": 24,
   "metadata": {},
   "outputs": [
    {
     "name": "stdout",
     "output_type": "stream",
     "text": [
      "[1 2 3 4 5]\n",
      "[5 4 3 2 1]\n"
     ]
    }
   ],
   "source": [
    "print(array1)\n",
    "print(array1[::-1])"
   ]
  },
  {
   "cell_type": "markdown",
   "metadata": {},
   "source": [
    "## Array Manipulation\n",
    "NumPy provides powerful functions to manipulate arrays, allowing you to reshape, join, and split them easily. This flexibility is crucial for efficiently managing and processing data in various forms."
   ]
  },
  {
   "cell_type": "code",
   "execution_count": 25,
   "metadata": {},
   "outputs": [
    {
     "name": "stdout",
     "output_type": "stream",
     "text": [
      "(4,)\n",
      "[[1 2 3 4]]\n"
     ]
    }
   ],
   "source": [
    "# Reshaping Arrays\n",
    "\n",
    "arr4 = np.array([1, 2, 3, 4])\n",
    "print(np.shape(arr4))\n",
    "reshaped_arr = arr4.reshape((1, 4))\n",
    "print(reshaped_arr)\n"
   ]
  },
  {
   "cell_type": "code",
   "execution_count": 26,
   "metadata": {},
   "outputs": [
    {
     "name": "stdout",
     "output_type": "stream",
     "text": [
      "[1 2 3 4 5 6]\n"
     ]
    }
   ],
   "source": [
    "# Flatten: The flatten method returns a copy of the array collapsed into one dimension. This is handy for linearizing multidimensional data.\n",
    "\n",
    "arr5 = np.array([[1, 2, 3], [4, 5, 6]])\n",
    "flattened_arr = arr5.flatten()\n",
    "print(flattened_arr)\n"
   ]
  },
  {
   "cell_type": "code",
   "execution_count": 27,
   "metadata": {},
   "outputs": [
    {
     "name": "stdout",
     "output_type": "stream",
     "text": [
      "[1 2 3 4 5]\n"
     ]
    }
   ],
   "source": [
    "# Joining Arrays\n",
    "\n",
    "arr6 = np.array([1, 2, 3])\n",
    "arr7 = np.array([4, 5])\n",
    "concatenated_arr = np.concatenate((arr6, arr7))\n",
    "print(concatenated_arr)\n"
   ]
  },
  {
   "cell_type": "code",
   "execution_count": 28,
   "metadata": {},
   "outputs": [
    {
     "name": "stdout",
     "output_type": "stream",
     "text": [
      "[array([1, 2]), array([3, 4]), array([5, 6]), array([7, 8])]\n"
     ]
    }
   ],
   "source": [
    "# Splitting arrays\n",
    "# returns a list of splitted arrays\n",
    "\n",
    "arr8 = np.array([1, 2, 3, 4, 5, 6, 7, 8])\n",
    "split_arr = np.split(arr8, 4)\n",
    "print(split_arr)\n"
   ]
  },
  {
   "cell_type": "code",
   "execution_count": 29,
   "metadata": {},
   "outputs": [
    {
     "name": "stdout",
     "output_type": "stream",
     "text": [
      "[array([1, 2]), array([3, 4]), array([5])]\n",
      "[5]\n",
      "<class 'list'>\n"
     ]
    }
   ],
   "source": [
    "# Splitting arrays through array_split() method\n",
    "\n",
    "arr9 = np.array([1, 2, 3, 4, 5])\n",
    "splited = np.array_split(arr9, 3)\n",
    "print(splited)\n",
    "print(splited[2])\n",
    "print(type(splited))"
   ]
  },
  {
   "cell_type": "markdown",
   "metadata": {},
   "source": [
    "## Universal Functions (ufuncs)\n",
    "NumPy's universal functions (ufuncs) are a core feature that provide element-wise operations on arrays. These functions are highly optimized and can perform complex computations efficiently using vectorization."
   ]
  },
  {
   "cell_type": "markdown",
   "metadata": {},
   "source": [
    "### Mathematical Operations"
   ]
  },
  {
   "cell_type": "code",
   "execution_count": 30,
   "metadata": {},
   "outputs": [
    {
     "name": "stdout",
     "output_type": "stream",
     "text": [
      "array1:  [1 2 3 4 5]\n",
      "array2:  [[ 1  2  3  4  5]\n",
      " [ 6  7  8  9 10]]\n",
      "Addition Result: [[ 2  4  6  8 10]\n",
      " [ 7  9 11 13 15]]\n"
     ]
    }
   ],
   "source": [
    "print(\"array1: \", array1)\n",
    "print(\"array2: \", array2)\n",
    "addition_result = np.add(array1, array2)\n",
    "print(\"Addition Result:\", addition_result)\n"
   ]
  },
  {
   "cell_type": "code",
   "execution_count": 31,
   "metadata": {},
   "outputs": [
    {
     "name": "stdout",
     "output_type": "stream",
     "text": [
      "[[ 2  4  6  8 10]\n",
      " [ 7  9 11 13 15]]\n"
     ]
    }
   ],
   "source": [
    "print(array1 + array2)"
   ]
  },
  {
   "cell_type": "code",
   "execution_count": 32,
   "metadata": {},
   "outputs": [
    {
     "name": "stdout",
     "output_type": "stream",
     "text": [
      "Subtraction Result: [[ 1  4  9 16 25]\n",
      " [ 6 14 24 36 50]]\n"
     ]
    }
   ],
   "source": [
    "subtraction_result = np.multiply(array1, array2)\n",
    "print(\"Subtraction Result:\", subtraction_result)\n",
    "\n",
    "# np. multiply\n",
    "# np. divide\n"
   ]
  },
  {
   "cell_type": "markdown",
   "metadata": {},
   "source": [
    "### Statistical Operations"
   ]
  },
  {
   "cell_type": "code",
   "execution_count": 33,
   "metadata": {},
   "outputs": [
    {
     "name": "stdout",
     "output_type": "stream",
     "text": [
      "Mean: 3.0\n"
     ]
    }
   ],
   "source": [
    "# Mean: Computes the average of the array elements.\n",
    "\n",
    "mean_value = np.mean(array1)        # [1, 2, 3, 4] = [1+2+3+4+5]/5\n",
    "#15/5 = 3\n",
    "print(\"Mean:\", mean_value)"
   ]
  },
  {
   "cell_type": "code",
   "execution_count": 34,
   "metadata": {},
   "outputs": [
    {
     "name": "stdout",
     "output_type": "stream",
     "text": [
      "Median: 3.0\n"
     ]
    }
   ],
   "source": [
    "# Median: Finds the median (middle value) of the array elements.\n",
    "\n",
    "median_value = np.median(array1)\n",
    "print(\"Median:\", median_value)\n",
    "\n"
   ]
  },
  {
   "cell_type": "code",
   "execution_count": 35,
   "metadata": {},
   "outputs": [
    {
     "name": "stdout",
     "output_type": "stream",
     "text": [
      "Standard Deviation: 1.4142135623730951\n"
     ]
    }
   ],
   "source": [
    "# Standard Deviation: Measures the amount of variation or dispersion of the array elements.\n",
    "\n",
    "std_dev = np.std(array1)\n",
    "print(\"Standard Deviation:\", std_dev)\n"
   ]
  },
  {
   "cell_type": "code",
   "execution_count": 36,
   "metadata": {},
   "outputs": [
    {
     "name": "stdout",
     "output_type": "stream",
     "text": [
      "Sum: 15\n"
     ]
    }
   ],
   "source": [
    "# Sum: Computes the sum of all the elements in the array.\n",
    "\n",
    "sum_value = np.sum(array1)\n",
    "print(\"Sum:\", sum_value)\n"
   ]
  },
  {
   "cell_type": "code",
   "execution_count": 37,
   "metadata": {},
   "outputs": [
    {
     "name": "stdout",
     "output_type": "stream",
     "text": [
      "Minimum: 1\n"
     ]
    }
   ],
   "source": [
    "# Minimum: Finds the smallest element in the array.\n",
    "\n",
    "min_value = np.min(array1)\n",
    "print(\"Minimum:\", min_value)\n"
   ]
  },
  {
   "cell_type": "code",
   "execution_count": 38,
   "metadata": {},
   "outputs": [
    {
     "name": "stdout",
     "output_type": "stream",
     "text": [
      "Maximum: 5\n"
     ]
    }
   ],
   "source": [
    "# Maximum: Finds the largest element in the array.\n",
    "\n",
    "max_value = np.max(array1)\n",
    "print(\"Maximum:\", max_value)\n"
   ]
  },
  {
   "cell_type": "markdown",
   "metadata": {},
   "source": [
    "## Some Advanced Topics\n",
    "exploring advanced topics such as linear algebra and random number generation can be highly beneficial. These features are particularly useful in fields like data science, machine learning, and scientific computing."
   ]
  },
  {
   "cell_type": "markdown",
   "metadata": {},
   "source": [
    "### Generating Random Numbers"
   ]
  },
  {
   "cell_type": "code",
   "execution_count": 39,
   "metadata": {},
   "outputs": [
    {
     "name": "stdout",
     "output_type": "stream",
     "text": [
      "89\n"
     ]
    }
   ],
   "source": [
    "from numpy import random\n",
    "x = random.randint(100)     #Generate a random integer from 0 to 100:\n",
    "print(x)"
   ]
  },
  {
   "cell_type": "code",
   "execution_count": 40,
   "metadata": {},
   "outputs": [
    {
     "name": "stdout",
     "output_type": "stream",
     "text": [
      "[0.31124464 0.27726388 0.37155236 0.62051282 0.58487999 0.19019612\n",
      " 0.53678749 0.1254544  0.11757919 0.76596939]\n"
     ]
    }
   ],
   "source": [
    "y = random.rand(10)       # Generate a random float from 0 to 1\n",
    "print(y)"
   ]
  },
  {
   "cell_type": "code",
   "execution_count": 41,
   "metadata": {},
   "outputs": [
    {
     "name": "stdout",
     "output_type": "stream",
     "text": [
      "[27 28 11 71 39]\n",
      "[[ 2 64 90 93 35]\n",
      " [90 49 39  0 41]\n",
      " [19 52 78 17  2]]\n"
     ]
    }
   ],
   "source": [
    "# Generate random array\n",
    "z=random.randint(100, size=(5))\n",
    "print(z)\n",
    "\n",
    "a = random.randint(100, size=(3, 5))\n",
    "print(a)"
   ]
  },
  {
   "cell_type": "code",
   "execution_count": 42,
   "metadata": {},
   "outputs": [
    {
     "name": "stdout",
     "output_type": "stream",
     "text": [
      "[0.92012809 0.54938534 0.99415033 0.73056897 0.5794055 ]\n"
     ]
    }
   ],
   "source": [
    "# random array of floats\n",
    "\n",
    "b = random.rand(5)\n",
    "print(b)"
   ]
  },
  {
   "cell_type": "code",
   "execution_count": 43,
   "metadata": {},
   "outputs": [
    {
     "name": "stdout",
     "output_type": "stream",
     "text": [
      "5\n",
      "[[5 3 7 3 9]\n",
      " [9 7 9 9 3]\n",
      " [7 9 5 3 7]]\n"
     ]
    }
   ],
   "source": [
    "# generate random number from arrays\n",
    "\n",
    "c = random.choice([3, 5, 7, 9])\n",
    "print(c)\n",
    "\n",
    "d = random.choice([3, 5, 7, 9], size=(3, 5))\n",
    "print(d)"
   ]
  },
  {
   "cell_type": "code",
   "execution_count": 44,
   "metadata": {},
   "outputs": [
    {
     "name": "stdout",
     "output_type": "stream",
     "text": [
      "Matrix Multiplication using np.dot:\n",
      "[[19 22]\n",
      " [43 50]]\n",
      "\n",
      "Matrix Multiplication using @ operator:\n",
      "[[19 22]\n",
      " [43 50]]\n"
     ]
    }
   ],
   "source": [
    "# matrix multiplication\n",
    "\n",
    "A = np.array([[1, 2],\n",
    "              [3, 4]])\n",
    "\n",
    "B = np.array([[5, 6],\n",
    "              [7, 8]])\n",
    "\n",
    "# Method 1: Using np.dot\n",
    "result_dot = np.dot(A, B)\n",
    "print(\"Matrix Multiplication using np.dot:\")\n",
    "print(result_dot)\n",
    "\n",
    "# Method 2: Using @ operator (introduced in Python 3.5)\n",
    "result_operator = A @ B\n",
    "print(\"\\nMatrix Multiplication using @ operator:\")\n",
    "print(result_operator)\n"
   ]
  },
  {
   "cell_type": "markdown",
   "metadata": {},
   "source": [
    "## Resources and Further Learning\n",
    "Thanks for hanging with us till now!\n",
    "\n",
    "Continuing to develop your skills with NumPy is essential for leveraging its full potential in data science and numerical computing. You can get more information on NumPy Documentation.\n",
    "\n",
    "The official NumPy documentation is a comprehensive resource that covers everything from basic concepts to advanced features. It includes detailed explanations, function references, and examples to help you understand how to use NumPy effectively.\n",
    "\n",
    "Link: NumPy [Documentation](https://numpy.org/doc/stable/user/absolute_beginners.html#welcome-to-numpy)"
   ]
  }
 ],
 "metadata": {
  "kernelspec": {
   "display_name": "Python 3",
   "language": "python",
   "name": "python3"
  },
  "language_info": {
   "codemirror_mode": {
    "name": "ipython",
    "version": 3
   },
   "file_extension": ".py",
   "mimetype": "text/x-python",
   "name": "python",
   "nbconvert_exporter": "python",
   "pygments_lexer": "ipython3",
   "version": "3.10.2"
  }
 },
 "nbformat": 4,
 "nbformat_minor": 2
}
